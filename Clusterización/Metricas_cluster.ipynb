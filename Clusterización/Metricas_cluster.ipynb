{
 "cells": [
  {
   "cell_type": "code",
   "execution_count": 6,
   "metadata": {},
   "outputs": [],
   "source": [
    "import numpy as np\n",
    "import pandas as pd\n",
    "import matplotlib.pyplot as plt\n",
    "from sklearn.preprocessing import StandardScaler\n",
    "from sklearn.cluster import KMeans, AgglomerativeClustering, DBSCAN\n",
    "from sklearn.metrics import silhouette_score\n"
   ]
  },
  {
   "cell_type": "code",
   "execution_count": 2,
   "metadata": {
    "colab": {
     "base_uri": "https://localhost:8080/",
     "height": 331
    },
    "id": "Bw2xhf3m4m32",
    "outputId": "ac0a6827-2376-4211-d1c0-1a8f3a88f712"
   },
   "outputs": [
    {
     "data": {
      "text/html": [
       "<div>\n",
       "<style scoped>\n",
       "    .dataframe tbody tr th:only-of-type {\n",
       "        vertical-align: middle;\n",
       "    }\n",
       "\n",
       "    .dataframe tbody tr th {\n",
       "        vertical-align: top;\n",
       "    }\n",
       "\n",
       "    .dataframe thead th {\n",
       "        text-align: right;\n",
       "    }\n",
       "</style>\n",
       "<table border=\"1\" class=\"dataframe\">\n",
       "  <thead>\n",
       "    <tr style=\"text-align: right;\">\n",
       "      <th></th>\n",
       "      <th>Unnamed: 0</th>\n",
       "      <th>Customer Id</th>\n",
       "      <th>Age</th>\n",
       "      <th>Edu</th>\n",
       "      <th>Years Employed</th>\n",
       "      <th>Income</th>\n",
       "      <th>Card Debt</th>\n",
       "      <th>Other Debt</th>\n",
       "      <th>Defaulted</th>\n",
       "      <th>DebtIncomeRatio</th>\n",
       "    </tr>\n",
       "  </thead>\n",
       "  <tbody>\n",
       "    <tr>\n",
       "      <th>0</th>\n",
       "      <td>0</td>\n",
       "      <td>1</td>\n",
       "      <td>41</td>\n",
       "      <td>2</td>\n",
       "      <td>6</td>\n",
       "      <td>19</td>\n",
       "      <td>0.124</td>\n",
       "      <td>1.073</td>\n",
       "      <td>0.0</td>\n",
       "      <td>6.3</td>\n",
       "    </tr>\n",
       "    <tr>\n",
       "      <th>1</th>\n",
       "      <td>1</td>\n",
       "      <td>2</td>\n",
       "      <td>47</td>\n",
       "      <td>1</td>\n",
       "      <td>26</td>\n",
       "      <td>100</td>\n",
       "      <td>4.582</td>\n",
       "      <td>8.218</td>\n",
       "      <td>0.0</td>\n",
       "      <td>12.8</td>\n",
       "    </tr>\n",
       "    <tr>\n",
       "      <th>2</th>\n",
       "      <td>2</td>\n",
       "      <td>3</td>\n",
       "      <td>33</td>\n",
       "      <td>2</td>\n",
       "      <td>10</td>\n",
       "      <td>57</td>\n",
       "      <td>6.111</td>\n",
       "      <td>5.802</td>\n",
       "      <td>1.0</td>\n",
       "      <td>20.9</td>\n",
       "    </tr>\n",
       "    <tr>\n",
       "      <th>3</th>\n",
       "      <td>3</td>\n",
       "      <td>4</td>\n",
       "      <td>29</td>\n",
       "      <td>2</td>\n",
       "      <td>4</td>\n",
       "      <td>19</td>\n",
       "      <td>0.681</td>\n",
       "      <td>0.516</td>\n",
       "      <td>0.0</td>\n",
       "      <td>6.3</td>\n",
       "    </tr>\n",
       "    <tr>\n",
       "      <th>4</th>\n",
       "      <td>4</td>\n",
       "      <td>5</td>\n",
       "      <td>47</td>\n",
       "      <td>1</td>\n",
       "      <td>31</td>\n",
       "      <td>253</td>\n",
       "      <td>9.308</td>\n",
       "      <td>8.908</td>\n",
       "      <td>0.0</td>\n",
       "      <td>7.2</td>\n",
       "    </tr>\n",
       "  </tbody>\n",
       "</table>\n",
       "</div>"
      ],
      "text/plain": [
       "   Unnamed: 0  Customer Id  Age  Edu  Years Employed  Income  Card Debt  \\\n",
       "0           0            1   41    2               6      19      0.124   \n",
       "1           1            2   47    1              26     100      4.582   \n",
       "2           2            3   33    2              10      57      6.111   \n",
       "3           3            4   29    2               4      19      0.681   \n",
       "4           4            5   47    1              31     253      9.308   \n",
       "\n",
       "   Other Debt  Defaulted  DebtIncomeRatio  \n",
       "0       1.073        0.0              6.3  \n",
       "1       8.218        0.0             12.8  \n",
       "2       5.802        1.0             20.9  \n",
       "3       0.516        0.0              6.3  \n",
       "4       8.908        0.0              7.2  "
      ]
     },
     "execution_count": 2,
     "metadata": {},
     "output_type": "execute_result"
    }
   ],
   "source": [
    "df = pd.read_csv('/Users/matin/Library/Mobile Documents/com~apple~CloudDocs/Coding Dojo Python/Clusterización /cust_seg.csv')\n",
    "df.head()"
   ]
  },
  {
   "cell_type": "code",
   "execution_count": 3,
   "metadata": {},
   "outputs": [],
   "source": [
    "df['Defaulted'].fillna(df['Defaulted'].mode()[0], inplace=True)"
   ]
  },
  {
   "cell_type": "code",
   "execution_count": 4,
   "metadata": {},
   "outputs": [],
   "source": [
    "df.drop(['Unnamed: 0'], axis = 1, inplace = True)"
   ]
  },
  {
   "cell_type": "code",
   "execution_count": 5,
   "metadata": {},
   "outputs": [
    {
     "name": "stdout",
     "output_type": "stream",
     "text": [
      "<class 'pandas.core.frame.DataFrame'>\n",
      "RangeIndex: 850 entries, 0 to 849\n",
      "Data columns (total 9 columns):\n",
      " #   Column           Non-Null Count  Dtype  \n",
      "---  ------           --------------  -----  \n",
      " 0   Customer Id      850 non-null    int64  \n",
      " 1   Age              850 non-null    int64  \n",
      " 2   Edu              850 non-null    int64  \n",
      " 3   Years Employed   850 non-null    int64  \n",
      " 4   Income           850 non-null    int64  \n",
      " 5   Card Debt        850 non-null    float64\n",
      " 6   Other Debt       850 non-null    float64\n",
      " 7   Defaulted        850 non-null    float64\n",
      " 8   DebtIncomeRatio  850 non-null    float64\n",
      "dtypes: float64(4), int64(5)\n",
      "memory usage: 59.9 KB\n"
     ]
    }
   ],
   "source": [
    "df.info()"
   ]
  },
  {
   "cell_type": "code",
   "execution_count": 7,
   "metadata": {},
   "outputs": [
    {
     "data": {
      "text/plain": [
       "0.0    78.47\n",
       "1.0    21.53\n",
       "Name: Defaulted, dtype: float64"
      ]
     },
     "execution_count": 7,
     "metadata": {},
     "output_type": "execute_result"
    }
   ],
   "source": [
    "round(df['Defaulted'].value_counts()/df.shape[0] * 100, 2)\n",
    "# Porcentaje de clientes que han caído en mora"
   ]
  },
  {
   "cell_type": "code",
   "execution_count": 15,
   "metadata": {},
   "outputs": [],
   "source": [
    "import seaborn as sns"
   ]
  },
  {
   "cell_type": "markdown",
   "metadata": {},
   "source": [
    "La mayoría de clientes han pagado a tiempo"
   ]
  },
  {
   "cell_type": "code",
   "execution_count": 8,
   "metadata": {},
   "outputs": [],
   "source": [
    "# Instancia de escalador estándar\n",
    "scaler = StandardScaler()\n",
    "# Ajustar y transformar datos\n",
    "df_scaled = scaler.fit_transform(df)"
   ]
  },
  {
   "cell_type": "code",
   "execution_count": 10,
   "metadata": {},
   "outputs": [],
   "source": [
    "def cluster(model, X_scaled, method):\n",
    "  # Seed\n",
    "  np.random.seed(35735)\n",
    "  # Estimacion\n",
    "  model.fit(X_scaled)\n",
    "  # Numero de clusters\n",
    "  clusters = model.labels_\n",
    "  num_clusters = len(set(clusters[clusters >= 0]))\n",
    "  # Coeficiente de silueta\n",
    "  silh_score = silhouette_score(X_scaled, model.labels_)\n",
    "\n",
    "  # Results\n",
    "  print(f'\\nModel Report\\n{method}\\n')\n",
    "  print(f'Number of clusters: {num_clusters}\\n')\n",
    "  print(f'Silhouette Coefficient: {silh_score:.3f}')"
   ]
  },
  {
   "cell_type": "code",
   "execution_count": 16,
   "metadata": {},
   "outputs": [
    {
     "data": {
      "image/png": "[encoded data removed]",
      "text/plain": [
       "<Figure size 504x288 with 1 Axes>"
      ]
     },
     "metadata": {
      "needs_background": "light"
     },
     "output_type": "display_data"
    }
   ],
   "source": [
    "# KMeans\n",
    "\n",
    "np.random.seed(35735)\n",
    "silhouette_scores_kmeans = []\n",
    "for i in range(2, 11):\n",
    "  kmeans = KMeans(n_clusters = i, random_state = 2731)\n",
    "  kmeans.fit(df_scaled)\n",
    "  silhouette_scores_kmeans.append(silhouette_score(df_scaled, kmeans.labels_))\n",
    "\n",
    "# Grafico\n",
    "plt.plot(range(2, 11), silhouette_scores_kmeans, marker = '.')\n",
    "plt.axvline(x = 2, linestyle = '--')\n",
    "plt.title('Coeficiente de Silueta\\nKMeans')\n",
    "plt.ylabel('')\n",
    "plt.xlabel('Número de clusters')\n",
    "plt.xticks(range(2, 11))\n",
    "sns.despine(left = True, bottom = True)\n",
    "plt.gcf().set_size_inches(7, 4);"
   ]
  },
  {
   "cell_type": "code",
   "execution_count": 17,
   "metadata": {},
   "outputs": [
    {
     "data": {
      "image/png": "[encoded data removed]",
      "text/plain": [
       "<Figure size 504x288 with 1 Axes>"
      ]
     },
     "metadata": {
      "needs_background": "light"
     },
     "output_type": "display_data"
    }
   ],
   "source": [
    "np.random.seed(35735)\n",
    "silhouette_scores_hc = []\n",
    "for i in range(2, 11):\n",
    "  hc = AgglomerativeClustering(n_clusters = i)\n",
    "  hc.fit(df_scaled)\n",
    "  silhouette_scores_hc.append(silhouette_score(df_scaled, hc.labels_))\n",
    "\n",
    "# Grafico\n",
    "plt.plot(range(2, 11), silhouette_scores_hc, marker = '.')\n",
    "plt.axvline(x = 2, linestyle = '--')\n",
    "plt.title('Coeficiente de Silueta\\nAgrupación jerárquica')\n",
    "plt.ylabel('')\n",
    "plt.xlabel('Número de clusters')\n",
    "plt.xticks(range(2, 11))\n",
    "sns.despine(left = True, bottom = True)\n",
    "plt.gcf().set_size_inches(7, 4);"
   ]
  },
  {
   "cell_type": "code",
   "execution_count": 19,
   "metadata": {},
   "outputs": [
    {
     "data": {
      "image/png": "[encoded data removed]",
      "text/plain": [
       "<Figure size 504x288 with 1 Axes>"
      ]
     },
     "metadata": {
      "needs_background": "light"
     },
     "output_type": "display_data"
    }
   ],
   "source": [
    "np.random.seed(35735)\n",
    "silhouette_scores_dbs = []\n",
    "for i in np.arange(0.5, 1.0, 0.1):\n",
    "  dbs = DBSCAN(eps = i, min_samples = 5)\n",
    "  dbs.fit(df_scaled)\n",
    "  silhouette_scores_dbs.append(silhouette_score(df_scaled, dbs.labels_))\n",
    "\n",
    "# Grafico\n",
    "plt.plot(np.arange(0.5, 1.0, 0.1), silhouette_scores_dbs, marker = '.')\n",
    "plt.axvline(x = 0.8, linestyle = '--')\n",
    "plt.title('Coeficiente de Silueta\\nDBSCAN')\n",
    "plt.ylabel('')\n",
    "plt.xlabel('Eps')\n",
    "plt.xticks(np.arange(0.5, 1.0, 0.1))\n",
    "sns.despine(left = True, bottom = True)\n",
    "plt.gcf().set_size_inches(7, 4);"
   ]
  },
  {
   "cell_type": "markdown",
   "metadata": {},
   "source": [
    "### Modelos"
   ]
  },
  {
   "cell_type": "code",
   "execution_count": 22,
   "metadata": {},
   "outputs": [
    {
     "name": "stdout",
     "output_type": "stream",
     "text": [
      "\n",
      "Model Report\n",
      "KMeans\n",
      "\n",
      "Number of clusters: 2\n",
      "\n",
      "Silhouette Coefficient: 0.302\n"
     ]
    }
   ],
   "source": [
    "kmeans = KMeans(n_clusters = 2, random_state = 2731)\n",
    "cluster(kmeans, df_scaled, 'KMeans')"
   ]
  },
  {
   "cell_type": "code",
   "execution_count": 23,
   "metadata": {},
   "outputs": [
    {
     "name": "stdout",
     "output_type": "stream",
     "text": [
      "\n",
      "Model Report\n",
      "Agrupación jerárquica\n",
      "\n",
      "Number of clusters: 2\n",
      "\n",
      "Silhouette Coefficient: 0.315\n"
     ]
    }
   ],
   "source": [
    "hc = AgglomerativeClustering(n_clusters = 2)\n",
    "cluster(hc, df_scaled, 'Agrupación jerárquica')"
   ]
  },
  {
   "cell_type": "code",
   "execution_count": 24,
   "metadata": {},
   "outputs": [
    {
     "name": "stdout",
     "output_type": "stream",
     "text": [
      "\n",
      "Model Report\n",
      "DBSCAN\n",
      "\n",
      "Number of clusters: 8\n",
      "\n",
      "Silhouette Coefficient: -0.276\n"
     ]
    }
   ],
   "source": [
    "dbs = DBSCAN(eps = 0.8, min_samples = 5)\n",
    "cluster(dbs, df_scaled, 'DBSCAN')"
   ]
  },
  {
   "cell_type": "code",
   "execution_count": null,
   "metadata": {},
   "outputs": [],
   "source": [
    "# Se debe generar dos cluster"
   ]
  }
 ],
 "metadata": {
  "interpreter": {
   "hash": "40d3a090f54c6569ab1632332b64b2c03c39dcf918b08424e98f38b5ae0af88f"
  },
  "kernelspec": {
   "display_name": "Python 3.8.3 ('base')",
   "language": "python",
   "name": "python3"
  },
  "language_info": {
   "codemirror_mode": {
    "name": "ipython",
    "version": 3
   },
   "file_extension": ".py",
   "mimetype": "text/x-python",
   "name": "python",
   "nbconvert_exporter": "python",
   "pygments_lexer": "ipython3",
   "version": "3.8.3"
  },
  "orig_nbformat": 4
 },
 "nbformat": 4,
 "nbformat_minor": 2
}
