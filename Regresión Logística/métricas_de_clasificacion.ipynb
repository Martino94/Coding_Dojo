{
  "cells": [
    {
      "cell_type": "markdown",
      "metadata": {
        "id": "uKmiydRHR2F6"
      },
      "source": [
        "# Métricas de clasificación\n",
        "## Elaborado por: Martín Ordóñez\n"
      ]
    },
    {
      "cell_type": "code",
      "execution_count": 2,
      "metadata": {
        "colab": {
          "base_uri": "https://localhost:8080/"
        },
        "id": "SG4wiJUsRynE",
        "outputId": "c0e97fed-38b2-4b5c-8d06-223a694c0817"
      },
      "outputs": [],
      "source": [
        "import matplotlib.pyplot as plt\n",
        "import pandas as pd\n",
        "import numpy as np\n",
        "from sklearn.model_selection import train_test_split\n",
        "from sklearn.preprocessing import StandardScaler\n",
        "from sklearn.linear_model import LinearRegression\n",
        "from sklearn.linear_model import LogisticRegression\n",
        "from sklearn.metrics import roc_auc_score, plot_roc_curve"
      ]
    },
    {
      "cell_type": "code",
      "execution_count": 3,
      "metadata": {
        "colab": {
          "base_uri": "https://localhost:8080/",
          "height": 281
        },
        "id": "joKZIptBSxS_",
        "outputId": "2cead549-3cf0-4dcc-c919-71089dc8e3bb"
      },
      "outputs": [
        {
          "data": {
            "text/html": [
              "<div>\n",
              "<style scoped>\n",
              "    .dataframe tbody tr th:only-of-type {\n",
              "        vertical-align: middle;\n",
              "    }\n",
              "\n",
              "    .dataframe tbody tr th {\n",
              "        vertical-align: top;\n",
              "    }\n",
              "\n",
              "    .dataframe thead th {\n",
              "        text-align: right;\n",
              "    }\n",
              "</style>\n",
              "<table border=\"1\" class=\"dataframe\">\n",
              "  <thead>\n",
              "    <tr style=\"text-align: right;\">\n",
              "      <th></th>\n",
              "      <th>age</th>\n",
              "      <th>balance</th>\n",
              "      <th>duration</th>\n",
              "      <th>campaign</th>\n",
              "      <th>pdays</th>\n",
              "      <th>previous</th>\n",
              "      <th>job_blue-collar</th>\n",
              "      <th>job_entrepreneur</th>\n",
              "      <th>job_housemaid</th>\n",
              "      <th>job_management</th>\n",
              "      <th>...</th>\n",
              "      <th>job_unknown</th>\n",
              "      <th>marital_married</th>\n",
              "      <th>marital_single</th>\n",
              "      <th>education_secondary</th>\n",
              "      <th>education_tertiary</th>\n",
              "      <th>education_unknown</th>\n",
              "      <th>default_yes</th>\n",
              "      <th>housing_yes</th>\n",
              "      <th>loan_yes</th>\n",
              "      <th>y_yes</th>\n",
              "    </tr>\n",
              "  </thead>\n",
              "  <tbody>\n",
              "    <tr>\n",
              "      <th>0</th>\n",
              "      <td>30</td>\n",
              "      <td>1787</td>\n",
              "      <td>79</td>\n",
              "      <td>1</td>\n",
              "      <td>-1</td>\n",
              "      <td>0</td>\n",
              "      <td>0</td>\n",
              "      <td>0</td>\n",
              "      <td>0</td>\n",
              "      <td>0</td>\n",
              "      <td>...</td>\n",
              "      <td>0</td>\n",
              "      <td>1</td>\n",
              "      <td>0</td>\n",
              "      <td>0</td>\n",
              "      <td>0</td>\n",
              "      <td>0</td>\n",
              "      <td>0</td>\n",
              "      <td>0</td>\n",
              "      <td>0</td>\n",
              "      <td>0</td>\n",
              "    </tr>\n",
              "    <tr>\n",
              "      <th>1</th>\n",
              "      <td>33</td>\n",
              "      <td>4789</td>\n",
              "      <td>220</td>\n",
              "      <td>1</td>\n",
              "      <td>339</td>\n",
              "      <td>4</td>\n",
              "      <td>0</td>\n",
              "      <td>0</td>\n",
              "      <td>0</td>\n",
              "      <td>0</td>\n",
              "      <td>...</td>\n",
              "      <td>0</td>\n",
              "      <td>1</td>\n",
              "      <td>0</td>\n",
              "      <td>1</td>\n",
              "      <td>0</td>\n",
              "      <td>0</td>\n",
              "      <td>0</td>\n",
              "      <td>1</td>\n",
              "      <td>1</td>\n",
              "      <td>0</td>\n",
              "    </tr>\n",
              "    <tr>\n",
              "      <th>2</th>\n",
              "      <td>35</td>\n",
              "      <td>1350</td>\n",
              "      <td>185</td>\n",
              "      <td>1</td>\n",
              "      <td>330</td>\n",
              "      <td>1</td>\n",
              "      <td>0</td>\n",
              "      <td>0</td>\n",
              "      <td>0</td>\n",
              "      <td>1</td>\n",
              "      <td>...</td>\n",
              "      <td>0</td>\n",
              "      <td>0</td>\n",
              "      <td>1</td>\n",
              "      <td>0</td>\n",
              "      <td>1</td>\n",
              "      <td>0</td>\n",
              "      <td>0</td>\n",
              "      <td>1</td>\n",
              "      <td>0</td>\n",
              "      <td>0</td>\n",
              "    </tr>\n",
              "    <tr>\n",
              "      <th>3</th>\n",
              "      <td>30</td>\n",
              "      <td>1476</td>\n",
              "      <td>199</td>\n",
              "      <td>4</td>\n",
              "      <td>-1</td>\n",
              "      <td>0</td>\n",
              "      <td>0</td>\n",
              "      <td>0</td>\n",
              "      <td>0</td>\n",
              "      <td>1</td>\n",
              "      <td>...</td>\n",
              "      <td>0</td>\n",
              "      <td>1</td>\n",
              "      <td>0</td>\n",
              "      <td>0</td>\n",
              "      <td>1</td>\n",
              "      <td>0</td>\n",
              "      <td>0</td>\n",
              "      <td>1</td>\n",
              "      <td>1</td>\n",
              "      <td>0</td>\n",
              "    </tr>\n",
              "    <tr>\n",
              "      <th>4</th>\n",
              "      <td>59</td>\n",
              "      <td>0</td>\n",
              "      <td>226</td>\n",
              "      <td>1</td>\n",
              "      <td>-1</td>\n",
              "      <td>0</td>\n",
              "      <td>1</td>\n",
              "      <td>0</td>\n",
              "      <td>0</td>\n",
              "      <td>0</td>\n",
              "      <td>...</td>\n",
              "      <td>0</td>\n",
              "      <td>1</td>\n",
              "      <td>0</td>\n",
              "      <td>1</td>\n",
              "      <td>0</td>\n",
              "      <td>0</td>\n",
              "      <td>0</td>\n",
              "      <td>1</td>\n",
              "      <td>0</td>\n",
              "      <td>0</td>\n",
              "    </tr>\n",
              "  </tbody>\n",
              "</table>\n",
              "<p>5 rows × 26 columns</p>\n",
              "</div>"
            ],
            "text/plain": [
              "   age  balance  duration  campaign  pdays  previous  job_blue-collar  \\\n",
              "0   30     1787        79         1     -1         0                0   \n",
              "1   33     4789       220         1    339         4                0   \n",
              "2   35     1350       185         1    330         1                0   \n",
              "3   30     1476       199         4     -1         0                0   \n",
              "4   59        0       226         1     -1         0                1   \n",
              "\n",
              "   job_entrepreneur  job_housemaid  job_management  ...  job_unknown  \\\n",
              "0                 0              0               0  ...            0   \n",
              "1                 0              0               0  ...            0   \n",
              "2                 0              0               1  ...            0   \n",
              "3                 0              0               1  ...            0   \n",
              "4                 0              0               0  ...            0   \n",
              "\n",
              "   marital_married  marital_single  education_secondary  education_tertiary  \\\n",
              "0                1               0                    0                   0   \n",
              "1                1               0                    1                   0   \n",
              "2                0               1                    0                   1   \n",
              "3                1               0                    0                   1   \n",
              "4                1               0                    1                   0   \n",
              "\n",
              "   education_unknown  default_yes  housing_yes  loan_yes  y_yes  \n",
              "0                  0            0            0         0      0  \n",
              "1                  0            0            1         1      0  \n",
              "2                  0            0            1         0      0  \n",
              "3                  0            0            1         1      0  \n",
              "4                  0            0            1         0      0  \n",
              "\n",
              "[5 rows x 26 columns]"
            ]
          },
          "execution_count": 3,
          "metadata": {},
          "output_type": "execute_result"
        }
      ],
      "source": [
        "df = pd.read_csv('/Users/matin/Library/Mobile Documents/com~apple~CloudDocs/Coding Dojo Python/Track Machine Learning I/Introducción to Machine Learning/Regresión Logística/bank_modified.csv')\n",
        "df.head()"
      ]
    },
    {
      "cell_type": "code",
      "execution_count": 4,
      "metadata": {
        "colab": {
          "base_uri": "https://localhost:8080/"
        },
        "id": "FT59hUyZcAbS",
        "outputId": "df1e082e-9dfc-4243-f5d3-b1916546d8a7"
      },
      "outputs": [
        {
          "name": "stdout",
          "output_type": "stream",
          "text": [
            "<class 'pandas.core.frame.DataFrame'>\n",
            "RangeIndex: 4521 entries, 0 to 4520\n",
            "Data columns (total 26 columns):\n",
            " #   Column               Non-Null Count  Dtype\n",
            "---  ------               --------------  -----\n",
            " 0   age                  4521 non-null   int64\n",
            " 1   balance              4521 non-null   int64\n",
            " 2   duration             4521 non-null   int64\n",
            " 3   campaign             4521 non-null   int64\n",
            " 4   pdays                4521 non-null   int64\n",
            " 5   previous             4521 non-null   int64\n",
            " 6   job_blue-collar      4521 non-null   int64\n",
            " 7   job_entrepreneur     4521 non-null   int64\n",
            " 8   job_housemaid        4521 non-null   int64\n",
            " 9   job_management       4521 non-null   int64\n",
            " 10  job_retired          4521 non-null   int64\n",
            " 11  job_self-employed    4521 non-null   int64\n",
            " 12  job_services         4521 non-null   int64\n",
            " 13  job_student          4521 non-null   int64\n",
            " 14  job_technician       4521 non-null   int64\n",
            " 15  job_unemployed       4521 non-null   int64\n",
            " 16  job_unknown          4521 non-null   int64\n",
            " 17  marital_married      4521 non-null   int64\n",
            " 18  marital_single       4521 non-null   int64\n",
            " 19  education_secondary  4521 non-null   int64\n",
            " 20  education_tertiary   4521 non-null   int64\n",
            " 21  education_unknown    4521 non-null   int64\n",
            " 22  default_yes          4521 non-null   int64\n",
            " 23  housing_yes          4521 non-null   int64\n",
            " 24  loan_yes             4521 non-null   int64\n",
            " 25  y_yes                4521 non-null   int64\n",
            "dtypes: int64(26)\n",
            "memory usage: 918.5 KB\n"
          ]
        }
      ],
      "source": [
        "df.info()"
      ]
    },
    {
      "cell_type": "code",
      "execution_count": 5,
      "metadata": {
        "colab": {
          "base_uri": "https://localhost:8080/"
        },
        "id": "BBFdVIAmTWIN",
        "outputId": "1996b957-8920-43ef-be48-cb1adfabf957"
      },
      "outputs": [
        {
          "data": {
            "text/plain": [
              "0    4000\n",
              "1     521\n",
              "Name: y_yes, dtype: int64"
            ]
          },
          "execution_count": 5,
          "metadata": {},
          "output_type": "execute_result"
        }
      ],
      "source": [
        "df['y_yes'].value_counts(dropna = False)"
      ]
    },
    {
      "cell_type": "code",
      "execution_count": 6,
      "metadata": {
        "id": "dqEv0TqHThTa"
      },
      "outputs": [],
      "source": [
        "# Organizar los datos en la matriz de características y el vector de destino\n",
        "X = df.loc[:, df.columns[(df.columns != 'y_yes')]]\n",
        "y = df.loc[:, 'y_yes'].values"
      ]
    },
    {
      "cell_type": "code",
      "execution_count": 8,
      "metadata": {
        "id": "RmC808mKTq4s"
      },
      "outputs": [],
      "source": [
        "X_train, X_test, y_train, y_test =train_test_split(X,\n",
        "                                                   y,\n",
        "                                                   test_size=0.3, \n",
        "                                                   random_state=0, \n",
        "                                                   stratify=y)"
      ]
    },
    {
      "cell_type": "code",
      "execution_count": 9,
      "metadata": {
        "colab": {
          "base_uri": "https://localhost:8080/"
        },
        "id": "t-6jpSK8Tubp",
        "outputId": "6fe3a6b7-9991-4634-e9e2-377f0c3ad16e"
      },
      "outputs": [
        {
          "data": {
            "text/plain": [
              "{0: 2799, 1: 365}"
            ]
          },
          "execution_count": 9,
          "metadata": {},
          "output_type": "execute_result"
        }
      ],
      "source": [
        "unique, counts = np.unique(y_train, return_counts=True)\n",
        "dict(zip(unique, counts))"
      ]
    },
    {
      "cell_type": "code",
      "execution_count": 10,
      "metadata": {
        "id": "ikAF_MLxTzFl"
      },
      "outputs": [],
      "source": [
        "# Estandarizar datos\n",
        "scaler = StandardScaler()\n",
        "# Ajustar solo al conjunto de entrenamiento\n",
        "scaler.fit(X_train)\n",
        "# Aplicar  transform tanto al conjunto de entrenamiento como al conjunto de prueba\n",
        "X_train = scaler.transform(X_train)\n",
        "X_test = scaler.transform(X_test)"
      ]
    },
    {
      "cell_type": "markdown",
      "metadata": {
        "id": "kBHsRkQxUK1Y"
      },
      "source": [
        "**Precisión**"
      ]
    },
    {
      "cell_type": "code",
      "execution_count": 11,
      "metadata": {
        "colab": {
          "base_uri": "https://localhost:8080/"
        },
        "id": "Ks2-_uE7T3jP",
        "outputId": "69136a0c-7105-48d5-cd16-f5a414a3ffe5"
      },
      "outputs": [
        {
          "name": "stdout",
          "output_type": "stream",
          "text": [
            "Training accuracy: 0.8934892541087232\n",
            "Testing accuracy: 0.8828297715549005\n"
          ]
        }
      ],
      "source": [
        "log_reg = LogisticRegression(penalty='l1',\n",
        "                        C=1.0,\n",
        "                        solver='liblinear',\n",
        "                        multi_class='ovr')\n",
        "log_reg.fit(X_train, y_train)\n",
        "print('Training accuracy:', log_reg.score(X_train, y_train))\n",
        "print('Testing accuracy:', log_reg.score(X_test, y_test))"
      ]
    },
    {
      "cell_type": "markdown",
      "metadata": {
        "id": "AFzNtP3VUQIf"
      },
      "source": [
        "**Sensibilidad**"
      ]
    },
    {
      "cell_type": "code",
      "execution_count": 12,
      "metadata": {
        "id": "ErwH9NFXXVL3"
      },
      "outputs": [],
      "source": [
        "y_pred_test=log_reg.predict(X_test)\n",
        "y_pred_train=log_reg.predict(X_train)"
      ]
    },
    {
      "cell_type": "code",
      "execution_count": 13,
      "metadata": {
        "colab": {
          "base_uri": "https://localhost:8080/"
        },
        "id": "fKIKuO87UXxe",
        "outputId": "653046a1-ecd8-412f-b2f5-9fa24a8d0aa7"
      },
      "outputs": [
        {
          "name": "stdout",
          "output_type": "stream",
          "text": [
            "[[1173   28]\n",
            " [ 131   25]]\n"
          ]
        }
      ],
      "source": [
        "from sklearn.metrics import confusion_matrix\n",
        "cm1=confusion_matrix(y_test,y_pred_test)\n",
        "print(cm1)"
      ]
    },
    {
      "cell_type": "code",
      "execution_count": 14,
      "metadata": {
        "colab": {
          "base_uri": "https://localhost:8080/"
        },
        "id": "AFC8lYfQYc_t",
        "outputId": "317e980d-30cd-4b45-c88d-af39cb969ee0"
      },
      "outputs": [
        {
          "name": "stdout",
          "output_type": "stream",
          "text": [
            "[[2746   53]\n",
            " [ 284   81]]\n"
          ]
        }
      ],
      "source": [
        "from sklearn.metrics import confusion_matrix\n",
        "cm2=confusion_matrix(y_train,y_pred_train)\n",
        "print(cm2)"
      ]
    },
    {
      "cell_type": "code",
      "execution_count": 15,
      "metadata": {
        "colab": {
          "base_uri": "https://localhost:8080/"
        },
        "id": "63ACwtBXVVBV",
        "outputId": "a5a3df87-5f16-4b76-94c2-6c90c1cc0e53"
      },
      "outputs": [
        {
          "name": "stdout",
          "output_type": "stream",
          "text": [
            "Training sensitivity :  0.9810646659521257\n",
            "Testing sensitivity :  0.9766860949208993\n"
          ]
        }
      ],
      "source": [
        "total1=sum(sum(cm1))\n",
        "sensitivity1 = cm1[0,0]/(cm1[0,0]+cm1[0,1])\n",
        "sensitivity2 = cm2[0,0]/(cm2[0,0]+cm2[0,1])\n",
        "print('Training sensitivity : ', sensitivity2 )\n",
        "print('Testing sensitivity : ', sensitivity1 )\n"
      ]
    },
    {
      "cell_type": "markdown",
      "metadata": {
        "id": "bkxUTIu3UTvS"
      },
      "source": [
        "**Especificidad**"
      ]
    },
    {
      "cell_type": "code",
      "execution_count": 16,
      "metadata": {
        "colab": {
          "base_uri": "https://localhost:8080/"
        },
        "id": "K6LcL-4MUW61",
        "outputId": "4d32fca2-46c2-4d84-8352-da3dcae21264"
      },
      "outputs": [
        {
          "name": "stdout",
          "output_type": "stream",
          "text": [
            "Training Specificity :  0.2219178082191781\n",
            "Testing Specificity :  0.16025641025641027\n"
          ]
        }
      ],
      "source": [
        "specificity1 = cm1[1,1]/(cm1[1,0]+cm1[1,1])\n",
        "specificity2 = cm2[1,1]/(cm2[1,0]+cm2[1,1])\n",
        "print('Training Specificity : ', specificity2)\n",
        "print('Testing Specificity : ', specificity1)"
      ]
    },
    {
      "cell_type": "markdown",
      "metadata": {
        "id": "qYS-hmtUUYhZ"
      },
      "source": [
        "**AUC**"
      ]
    },
    {
      "cell_type": "code",
      "execution_count": 17,
      "metadata": {
        "colab": {
          "base_uri": "https://localhost:8080/"
        },
        "id": "3pbYxjHKUfsy",
        "outputId": "0bd19a75-2034-45b9-ec77-96bf0e73979b"
      },
      "outputs": [
        {
          "name": "stdout",
          "output_type": "stream",
          "text": [
            "Training AUC: 0.8646845497658167\n",
            "Testing AUC: 0.8434851299131065\n"
          ]
        }
      ],
      "source": [
        "# Calcular el AUC para conjuntos de entrenamiento y prueba\n",
        "print(f'Training AUC: {roc_auc_score(y_train, log_reg.predict_proba(X_train)[:,1])}')\n",
        "print(f'Testing AUC: {roc_auc_score(y_test, log_reg.predict_proba(X_test)[:,1])}')"
      ]
    },
    {
      "cell_type": "markdown",
      "metadata": {
        "id": "MNcV0tanUaxA"
      },
      "source": [
        "**ROC**"
      ]
    },
    {
      "cell_type": "code",
      "execution_count": 19,
      "metadata": {
        "colab": {
          "base_uri": "https://localhost:8080/",
          "height": 331
        },
        "id": "5KWTvCSkUcvU",
        "outputId": "ed984d4e-cd9e-4389-cddf-eb3334998c87"
      },
      "outputs": [
        {
          "data": {
            "image/png": "[encoded data removed]",
            "text/plain": [
              "<Figure size 432x288 with 1 Axes>"
            ]
          },
          "metadata": {
            "needs_background": "light"
          },
          "output_type": "display_data"
        }
      ],
      "source": [
        "# Visualizar la curva ROC\n",
        "plot_roc_curve(log_reg, X_train, y_train)\n",
        "plt.plot([0, 1], [0, 1], ls = '--', label = 'Baseline (AUC = 0.5)')\n",
        "plt.legend();"
      ]
    },
    {
      "cell_type": "code",
      "execution_count": 20,
      "metadata": {
        "colab": {
          "base_uri": "https://localhost:8080/",
          "height": 331
        },
        "id": "T3jTnudIZe6O",
        "outputId": "065c2ae8-1d9b-4773-87b9-a9a52d926b47"
      },
      "outputs": [
        {
          "data": {
            "image/png": "[encoded data removed]",
            "text/plain": [
              "<Figure size 432x288 with 1 Axes>"
            ]
          },
          "metadata": {
            "needs_background": "light"
          },
          "output_type": "display_data"
        }
      ],
      "source": [
        "# Visualizar la curva ROC\n",
        "plot_roc_curve(log_reg, X_test, y_test)\n",
        "plt.plot([0, 1], [0, 1], ls = '--', label = 'Baseline (AUC = 0.5)')\n",
        "plt.legend();"
      ]
    },
    {
      "cell_type": "markdown",
      "metadata": {
        "id": "UwhIMsjyaIuk"
      },
      "source": [
        "Importa que tan bien clasificado esté una persona es decir el nivel de precision ya que se busca entender que tan efectiva fue la campaña de marketing. Sin embargo la curva ROC tambien es muy útil ya que permite relacionar facilmente los verdaderos positivos con los falsos positivos.\n",
        "\n",
        "El modelo es muy parecido en todas las métricas excepto en la especificidad.\n",
        "\n",
        "Se podria tratar de categorizar a las personas por distintos atributos para evaluar la efectividad de la campaña por tipos de clientes. Así se podrían enfocar las campañas de distinta forma"
      ]
    }
  ],
  "metadata": {
    "colab": {
      "name": "métricas de clasificacion.ipynb",
      "provenance": []
    },
    "kernelspec": {
      "display_name": "Python 3",
      "name": "python3"
    },
    "language_info": {
      "codemirror_mode": {
        "name": "ipython",
        "version": 3
      },
      "file_extension": ".py",
      "mimetype": "text/x-python",
      "name": "python",
      "nbconvert_exporter": "python",
      "pygments_lexer": "ipython3",
      "version": "3.8.3"
    }
  },
  "nbformat": 4,
  "nbformat_minor": 0
}
