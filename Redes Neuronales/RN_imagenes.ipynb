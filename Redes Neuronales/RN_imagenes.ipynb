{
 "cells": [
  {
   "cell_type": "markdown",
   "metadata": {},
   "source": [
    "#### Keras para crear una RNC para clasificar imágenes"
   ]
  },
  {
   "cell_type": "code",
   "execution_count": 1,
   "metadata": {},
   "outputs": [],
   "source": [
    "# Imports\n",
    "import numpy as np\n",
    "import matplotlib.pyplot as plt\n",
    "import pandas as pd\n",
    "from sklearn.preprocessing import StandardScaler\n",
    "from tensorflow.keras.models import Sequential\n",
    "from tensorflow.keras.layers import Dense, Flatten, Conv2D, MaxPooling2D\n",
    "from tensorflow.keras.utils import to_categorical\n",
    "from tensorflow.keras.datasets import mnist"
   ]
  },
  {
   "cell_type": "code",
   "execution_count": 2,
   "metadata": {},
   "outputs": [
    {
     "name": "stdout",
     "output_type": "stream",
     "text": [
      "Downloading data from https://storage.googleapis.com/tensorflow/tf-keras-datasets/mnist.npz\n",
      "11493376/11490434 [==============================] - 15s 1us/step\n",
      "11501568/11490434 [==============================] - 15s 1us/step\n"
     ]
    }
   ],
   "source": [
    "# Obtener datos: ya está dividido en conjuntos de entrenamiento y prueba\n",
    "(X_train, y_train), (X_test, y_test) = mnist.load_data()"
   ]
  },
  {
   "cell_type": "code",
   "execution_count": 3,
   "metadata": {},
   "outputs": [
    {
     "data": {
      "text/plain": [
       "(60000, 28, 28)"
      ]
     },
     "execution_count": 3,
     "metadata": {},
     "output_type": "execute_result"
    }
   ],
   "source": [
    "X_train.shape"
   ]
  },
  {
   "cell_type": "markdown",
   "metadata": {},
   "source": [
    "* Escalar datos\n",
    "\n",
    "Queremos escalar los datos entre 0 y 1, Esta es  una opción recurrente porque mejora la velocidad. \n",
    "\n",
    "Ya que los pixeles son valores numéricos entre 0 y 225, podemos dividir por el valor máximo para lograrlo. "
   ]
  },
  {
   "cell_type": "code",
   "execution_count": 4,
   "metadata": {},
   "outputs": [],
   "source": [
    "# Escalar datos entre 0 y 1\n",
    "X_train = X_train / 255\n",
    "X_test = X_test / 255"
   ]
  },
  {
   "cell_type": "markdown",
   "metadata": {},
   "source": [
    "* Reformar datos\n",
    "\n",
    "Ahora necesitamos reformar nuestros datos. Actualmente, cada imagen es de 28 pixeles x 28 pixeles. Ya que cada pixel tiene un valor de color, tenemos que hacer una reforma para que sea 28x28x1. Si tenemos valores RGB (rojo, verde y azul, por sus iniciales en inglés), querremos reformar a 28x28x3."
   ]
  },
  {
   "cell_type": "code",
   "execution_count": 5,
   "metadata": {},
   "outputs": [],
   "source": [
    "# Reformar datos\n",
    "X_train = X_train.reshape(X_train.shape[0], 28, 28, 1)\n",
    "X_test = X_test.reshape(X_test.shape[0], 28, 28, 1)"
   ]
  },
  {
   "cell_type": "markdown",
   "metadata": {},
   "source": [
    "#### Formato objetivo"
   ]
  },
  {
   "cell_type": "code",
   "execution_count": 6,
   "metadata": {},
   "outputs": [],
   "source": [
    "y_train = to_categorical(y_train, num_classes = 10)\n",
    "y_test = to_categorical(y_test, num_classes = 10)"
   ]
  },
  {
   "cell_type": "code",
   "execution_count": 7,
   "metadata": {},
   "outputs": [
    {
     "data": {
      "text/plain": [
       "(28, 28, 1)"
      ]
     },
     "execution_count": 7,
     "metadata": {},
     "output_type": "execute_result"
    }
   ],
   "source": [
    "# Paso 1: Definir nuestra estructura de red\n",
    "# Guardar la forma de entrada\n",
    "input_shape = X_train.shape[1:4]\n",
    "input_shape"
   ]
  },
  {
   "cell_type": "code",
   "execution_count": 8,
   "metadata": {},
   "outputs": [],
   "source": [
    "\n",
    "# Modelo secuencial\n",
    "model = Sequential()"
   ]
  },
  {
   "cell_type": "code",
   "execution_count": 9,
   "metadata": {},
   "outputs": [],
   "source": [
    "# Capa convolucional\n",
    "model.add(Conv2D(filters = 8, # Cuantos filtros quieres usar\n",
    "                 kernel_size = 3, # tamaño de cada filtro\n",
    "                 input_shape = input_shape)) # ¿Cuál es la forma de tus características de entrada (definimos esto arriba)\n",
    "# Pooling layer\n",
    "model.add(MaxPooling2D(pool_size = 2)) # Tamaño de pooling\n",
    "# Capa de aplanamiento\n",
    "model.add(Flatten())\n",
    "# Capa de salida\n",
    "model.add(Dense(10, # Cuantas posibilidades de salida tenemos\n",
    "                activation = 'softmax')) # ¿Qué función de activación estás usando?"
   ]
  },
  {
   "cell_type": "code",
   "execution_count": 10,
   "metadata": {},
   "outputs": [],
   "source": [
    "# Paso 2: compilar\n",
    "model.compile(loss = 'categorical_crossentropy', optimizer = 'adam', metrics = ['acc'])"
   ]
  },
  {
   "cell_type": "code",
   "execution_count": 11,
   "metadata": {},
   "outputs": [
    {
     "name": "stdout",
     "output_type": "stream",
     "text": [
      "Epoch 1/20\n",
      "1875/1875 [==============================] - 24s 12ms/step - loss: 0.3237 - acc: 0.9115 - val_loss: 0.1777 - val_acc: 0.9493\n",
      "Epoch 2/20\n",
      "1875/1875 [==============================] - 20s 11ms/step - loss: 0.1557 - acc: 0.9567 - val_loss: 0.1301 - val_acc: 0.9620\n",
      "Epoch 3/20\n",
      "1875/1875 [==============================] - 21s 11ms/step - loss: 0.1164 - acc: 0.9673 - val_loss: 0.1056 - val_acc: 0.9684\n",
      "Epoch 4/20\n",
      "1875/1875 [==============================] - 21s 11ms/step - loss: 0.0967 - acc: 0.9725 - val_loss: 0.0915 - val_acc: 0.9723\n",
      "Epoch 5/20\n",
      "1875/1875 [==============================] - 21s 11ms/step - loss: 0.0846 - acc: 0.9756 - val_loss: 0.0888 - val_acc: 0.9711\n",
      "Epoch 6/20\n",
      "1875/1875 [==============================] - 21s 11ms/step - loss: 0.0754 - acc: 0.9777 - val_loss: 0.0830 - val_acc: 0.9733\n",
      "Epoch 7/20\n",
      "1875/1875 [==============================] - 22s 12ms/step - loss: 0.0682 - acc: 0.9796 - val_loss: 0.0786 - val_acc: 0.9752\n",
      "Epoch 8/20\n",
      "1875/1875 [==============================] - 22s 12ms/step - loss: 0.0626 - acc: 0.9811 - val_loss: 0.0780 - val_acc: 0.9746\n",
      "Epoch 9/20\n",
      "1875/1875 [==============================] - 21s 11ms/step - loss: 0.0581 - acc: 0.9825 - val_loss: 0.0769 - val_acc: 0.9768\n",
      "Epoch 10/20\n",
      "1875/1875 [==============================] - 21s 11ms/step - loss: 0.0541 - acc: 0.9840 - val_loss: 0.0775 - val_acc: 0.9750\n",
      "Epoch 11/20\n",
      "1875/1875 [==============================] - 22s 12ms/step - loss: 0.0516 - acc: 0.9841 - val_loss: 0.0764 - val_acc: 0.9760\n",
      "Epoch 12/20\n",
      "1875/1875 [==============================] - 22s 12ms/step - loss: 0.0491 - acc: 0.9847 - val_loss: 0.0743 - val_acc: 0.9766\n",
      "Epoch 13/20\n",
      "1875/1875 [==============================] - 21s 11ms/step - loss: 0.0464 - acc: 0.9861 - val_loss: 0.0787 - val_acc: 0.9761\n",
      "Epoch 14/20\n",
      "1875/1875 [==============================] - 21s 11ms/step - loss: 0.0442 - acc: 0.9865 - val_loss: 0.0779 - val_acc: 0.9766\n",
      "Epoch 15/20\n",
      "1875/1875 [==============================] - 21s 11ms/step - loss: 0.0423 - acc: 0.9870 - val_loss: 0.0785 - val_acc: 0.9749\n",
      "Epoch 16/20\n",
      "1875/1875 [==============================] - 22s 12ms/step - loss: 0.0407 - acc: 0.9876 - val_loss: 0.0812 - val_acc: 0.9751\n",
      "Epoch 17/20\n",
      "1875/1875 [==============================] - 21s 11ms/step - loss: 0.0384 - acc: 0.9885 - val_loss: 0.0769 - val_acc: 0.9777\n",
      "Epoch 18/20\n",
      "1875/1875 [==============================] - 21s 11ms/step - loss: 0.0369 - acc: 0.9887 - val_loss: 0.0784 - val_acc: 0.9762\n",
      "Epoch 19/20\n",
      "1875/1875 [==============================] - 22s 12ms/step - loss: 0.0359 - acc: 0.9892 - val_loss: 0.0772 - val_acc: 0.9767\n",
      "Epoch 20/20\n",
      "1875/1875 [==============================] - 22s 12ms/step - loss: 0.0343 - acc: 0.9896 - val_loss: 0.0815 - val_acc: 0.9750\n"
     ]
    }
   ],
   "source": [
    "# Paso 3: ajustar nuestro modelo\n",
    "history = model.fit(X_train, y_train,\n",
    "                    validation_data = (X_test, y_test), \n",
    "                    epochs=20)"
   ]
  },
  {
   "cell_type": "code",
   "execution_count": 12,
   "metadata": {},
   "outputs": [
    {
     "data": {
      "image/png": "[encoded data removed]",
      "text/plain": [
       "<Figure size 432x288 with 1 Axes>"
      ]
     },
     "metadata": {
      "needs_background": "light"
     },
     "output_type": "display_data"
    }
   ],
   "source": [
    "# Visualizar la pérdida\n",
    "plt.plot(history.history['loss'], label='Train loss')\n",
    "plt.plot(history.history['val_loss'], label='Test Loss')\n",
    "plt.legend();"
   ]
  },
  {
   "cell_type": "code",
   "execution_count": 13,
   "metadata": {},
   "outputs": [
    {
     "data": {
      "image/png": "[encoded data removed]",
      "text/plain": [
       "<Figure size 432x288 with 1 Axes>"
      ]
     },
     "metadata": {
      "needs_background": "light"
     },
     "output_type": "display_data"
    }
   ],
   "source": [
    "# Visualizar la precisión\n",
    "plt.plot(history.history['acc'], label='Train Accuracy')\n",
    "plt.plot(history.history['val_acc'], label='Test Accuracy')\n",
    "plt.legend();"
   ]
  }
 ],
 "metadata": {
  "interpreter": {
   "hash": "40d3a090f54c6569ab1632332b64b2c03c39dcf918b08424e98f38b5ae0af88f"
  },
  "kernelspec": {
   "display_name": "Python 3.8.3 ('base')",
   "language": "python",
   "name": "python3"
  },
  "language_info": {
   "codemirror_mode": {
    "name": "ipython",
    "version": 3
   },
   "file_extension": ".py",
   "mimetype": "text/x-python",
   "name": "python",
   "nbconvert_exporter": "python",
   "pygments_lexer": "ipython3",
   "version": "3.8.3"
  },
  "orig_nbformat": 4
 },
 "nbformat": 4,
 "nbformat_minor": 2
}
