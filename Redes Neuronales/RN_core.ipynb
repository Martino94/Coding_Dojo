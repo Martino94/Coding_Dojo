{
 "cells": [
  {
   "cell_type": "markdown",
   "metadata": {},
   "source": [
    "# Redes Neuronales"
   ]
  },
  {
   "cell_type": "code",
   "execution_count": null,
   "metadata": {},
   "outputs": [],
   "source": [
    "# Librerias\n",
    "import pandas as pd\n",
    "import numpy as np\n",
    "\n",
    "import matplotlib.pyplot as plt\n",
    "import matplotlib.ticker as mtick\n",
    "#import seaborn as sns\n",
    "\n",
    "\n",
    "from sklearn.preprocessing import StandardScaler\n",
    "from tensorflow.keras.models import Sequential\n",
    "from tensorflow.keras.layers import Dense, Dropout, Flatten, Conv2D, MaxPooling2D\n",
    "from tensorflow.keras.utils import to_categorical"
   ]
  },
  {
   "cell_type": "code",
   "execution_count": 3,
   "metadata": {},
   "outputs": [],
   "source": [
    "# datos\n",
    "\n",
    "df_train = pd.read_csv('/Users/matin/Library/Mobile Documents/com~apple~CloudDocs/Coding Dojo Python/Redes neuronales en Keras/archive/fashion-mnist_train.csv')\n",
    "df_test = pd.read_csv('/Users/matin/Library/Mobile Documents/com~apple~CloudDocs/Coding Dojo Python/Redes neuronales en Keras/archive/fashion-mnist_test.csv')"
   ]
  },
  {
   "cell_type": "code",
   "execution_count": 4,
   "metadata": {},
   "outputs": [],
   "source": [
    "X_train = df_train.iloc[:, 1:].values\n",
    "y_train = df_train.iloc[:, 0].values\n"
   ]
  },
  {
   "cell_type": "code",
   "execution_count": 5,
   "metadata": {},
   "outputs": [],
   "source": [
    "\n",
    "X_test = df_test.iloc[:, 1:].values\n",
    "y_test = df_test.iloc[:, 0].values"
   ]
  },
  {
   "cell_type": "code",
   "execution_count": 6,
   "metadata": {},
   "outputs": [],
   "source": [
    "# Escalar datos\n",
    "X_train = X_train / 255\n",
    "X_test = X_test / 255"
   ]
  },
  {
   "cell_type": "code",
   "execution_count": 7,
   "metadata": {},
   "outputs": [],
   "source": [
    "ytrain = len(set(y_train))\n",
    "ytest = len(set(y_test))"
   ]
  },
  {
   "cell_type": "code",
   "execution_count": 8,
   "metadata": {},
   "outputs": [],
   "source": [
    "y_train = to_categorical(y_train, num_classes = ytrain)\n",
    "y_test = to_categorical(y_test, num_classes = ytest)"
   ]
  },
  {
   "cell_type": "code",
   "execution_count": 9,
   "metadata": {},
   "outputs": [],
   "source": [
    "X_train = X_train.reshape(X_train.shape[0], 28, 28, 1)\n",
    "X_test = X_test.reshape(X_test.shape[0], 28, 28, 1)"
   ]
  },
  {
   "cell_type": "code",
   "execution_count": 10,
   "metadata": {},
   "outputs": [],
   "source": [
    "input_shape = X_train.shape[1:]"
   ]
  },
  {
   "cell_type": "code",
   "execution_count": 11,
   "metadata": {},
   "outputs": [
    {
     "name": "stderr",
     "output_type": "stream",
     "text": [
      "2022-03-27 19:53:16.563318: I tensorflow/core/platform/cpu_feature_guard.cc:151] This TensorFlow binary is optimized with oneAPI Deep Neural Network Library (oneDNN) to use the following CPU instructions in performance-critical operations:  AVX2 FMA\n",
      "To enable them in other operations, rebuild TensorFlow with the appropriate compiler flags.\n"
     ]
    }
   ],
   "source": [
    "m1 = Sequential()"
   ]
  },
  {
   "cell_type": "code",
   "execution_count": 12,
   "metadata": {},
   "outputs": [],
   "source": [
    "m1.add(Conv2D(filters = 16, kernel_size = 3, input_shape = input_shape)) \n",
    "\n",
    "# Capa pooling\n",
    "m1.add(MaxPooling2D(pool_size = 2)) \n",
    "\n",
    "# Capa de aplanamiento\n",
    "m1.add(Flatten())\n",
    "\n",
    "# Capa de salida\n",
    "m1.add(Dense(10, activation = 'softmax')) # Funcion de activacion a usar"
   ]
  },
  {
   "cell_type": "code",
   "execution_count": 13,
   "metadata": {},
   "outputs": [],
   "source": [
    "m1.compile(loss = 'categorical_crossentropy', optimizer = 'adam', metrics = ['acc'])"
   ]
  },
  {
   "cell_type": "code",
   "execution_count": 15,
   "metadata": {},
   "outputs": [
    {
     "name": "stdout",
     "output_type": "stream",
     "text": [
      "Epoch 1/15\n",
      "1875/1875 [==============================] - 25s 13ms/step - loss: 0.3298 - acc: 0.8850 - val_loss: 0.3317 - val_acc: 0.8848\n",
      "Epoch 2/15\n",
      "1875/1875 [==============================] - 22s 11ms/step - loss: 0.3082 - acc: 0.8921 - val_loss: 0.3184 - val_acc: 0.8908\n",
      "Epoch 3/15\n",
      "1875/1875 [==============================] - 22s 12ms/step - loss: 0.2927 - acc: 0.8985 - val_loss: 0.3135 - val_acc: 0.8925\n",
      "Epoch 4/15\n",
      "1875/1875 [==============================] - 24s 13ms/step - loss: 0.2804 - acc: 0.9016 - val_loss: 0.3030 - val_acc: 0.8966\n",
      "Epoch 5/15\n",
      "1875/1875 [==============================] - 24s 13ms/step - loss: 0.2699 - acc: 0.9043 - val_loss: 0.3050 - val_acc: 0.8962\n",
      "Epoch 6/15\n",
      "1875/1875 [==============================] - 25s 13ms/step - loss: 0.2604 - acc: 0.9076 - val_loss: 0.3034 - val_acc: 0.8953\n",
      "Epoch 7/15\n",
      "1875/1875 [==============================] - 24s 13ms/step - loss: 0.2523 - acc: 0.9104 - val_loss: 0.2969 - val_acc: 0.8996\n",
      "Epoch 8/15\n",
      "1875/1875 [==============================] - 1114s 594ms/step - loss: 0.2452 - acc: 0.9132 - val_loss: 0.2985 - val_acc: 0.8939\n",
      "Epoch 9/15\n",
      "1875/1875 [==============================] - 25s 13ms/step - loss: 0.2380 - acc: 0.9155 - val_loss: 0.2914 - val_acc: 0.9004\n",
      "Epoch 10/15\n",
      "1875/1875 [==============================] - 22s 12ms/step - loss: 0.2317 - acc: 0.9178 - val_loss: 0.2992 - val_acc: 0.8957\n",
      "Epoch 11/15\n",
      "1875/1875 [==============================] - 22s 12ms/step - loss: 0.2270 - acc: 0.9190 - val_loss: 0.2983 - val_acc: 0.8982\n",
      "Epoch 12/15\n",
      "1875/1875 [==============================] - 23s 12ms/step - loss: 0.2212 - acc: 0.9204 - val_loss: 0.2930 - val_acc: 0.9003\n",
      "Epoch 13/15\n",
      "1875/1875 [==============================] - 25s 13ms/step - loss: 0.2167 - acc: 0.9230 - val_loss: 0.3107 - val_acc: 0.8955\n",
      "Epoch 14/15\n",
      "1875/1875 [==============================] - 22s 12ms/step - loss: 0.2122 - acc: 0.9241 - val_loss: 0.3039 - val_acc: 0.8977\n",
      "Epoch 15/15\n",
      "1875/1875 [==============================] - 23s 12ms/step - loss: 0.2081 - acc: 0.9257 - val_loss: 0.3087 - val_acc: 0.8961\n"
     ]
    }
   ],
   "source": [
    "modelo = m1.fit(X_train, y_train, validation_data = (X_test, y_test), epochs = 15)"
   ]
  },
  {
   "cell_type": "code",
   "execution_count": 18,
   "metadata": {},
   "outputs": [
    {
     "data": {
      "image/png": "[encoded data removed]",
      "text/plain": [
       "<Figure size 432x288 with 1 Axes>"
      ]
     },
     "metadata": {
      "needs_background": "light"
     },
     "output_type": "display_data"
    }
   ],
   "source": [
    "# Visualizar la perdida\n",
    "plt.plot(modelo.history['loss'], label = 'Train loss')\n",
    "plt.plot(modelo.history['val_loss'], label = 'Test loss')\n",
    "plt.title('Modelo 1 - Loss Function')\n",
    "plt.legend();"
   ]
  },
  {
   "cell_type": "code",
   "execution_count": 19,
   "metadata": {},
   "outputs": [
    {
     "data": {
      "image/png": "[encoded data removed]",
      "text/plain": [
       "<Figure size 432x288 with 1 Axes>"
      ]
     },
     "metadata": {
      "needs_background": "light"
     },
     "output_type": "display_data"
    }
   ],
   "source": [
    "# Visualizar la precision\n",
    "plt.plot(modelo.history['acc'], label = 'Train accuracy')\n",
    "plt.plot(modelo.history['val_acc'], label = 'Test accuracy')\n",
    "plt.title('Modelo 1 - Accuracy')\n",
    "plt.legend();"
   ]
  }
 ],
 "metadata": {
  "interpreter": {
   "hash": "aee8b7b246df8f9039afb4144a1f6fd8d2ca17a180786b69acc140d282b71a49"
  },
  "kernelspec": {
   "display_name": "Python 3.8.2 64-bit",
   "language": "python",
   "name": "python3"
  },
  "language_info": {
   "codemirror_mode": {
    "name": "ipython",
    "version": 3
   },
   "file_extension": ".py",
   "mimetype": "text/x-python",
   "name": "python",
   "nbconvert_exporter": "python",
   "pygments_lexer": "ipython3",
   "version": "3.8.2"
  },
  "orig_nbformat": 4
 },
 "nbformat": 4,
 "nbformat_minor": 2
}
